{
 "cells": [
  {
   "cell_type": "code",
   "execution_count": 11,
   "metadata": {},
   "outputs": [],
   "source": [
    "import ipywidgets as widgets\n",
    "from IPython.display import display\n",
    "import cv2\n",
    "from matplotlib import pyplot as plt\n",
    "import os"
   ]
  },
  {
   "cell_type": "code",
   "execution_count": 12,
   "metadata": {},
   "outputs": [],
   "source": [
    "images_path = '../dataset/images'\n",
    "images_n_path = '../dataset/images_n'\n",
    "masks_path = '../dataset/masks'"
   ]
  },
  {
   "cell_type": "code",
   "execution_count": 13,
   "metadata": {},
   "outputs": [],
   "source": [
    "image_files = sorted(os.listdir(images_path))\n",
    "image_n_files = sorted(os.listdir(images_n_path))\n",
    "mask_files = sorted(os.listdir(masks_path))"
   ]
  },
  {
   "cell_type": "code",
   "execution_count": 17,
   "metadata": {},
   "outputs": [
    {
     "data": {
      "application/vnd.jupyter.widget-view+json": {
       "model_id": "dcf5375391be43a696e9512c37462f84",
       "version_major": 2,
       "version_minor": 0
      },
      "text/plain": [
       "interactive(children=(IntSlider(value=0, description='Image Index:', max=19694), Output()), _dom_classes=('wid…"
      ]
     },
     "execution_count": 17,
     "metadata": {},
     "output_type": "execute_result"
    }
   ],
   "source": [
    "def showImage(index):\n",
    "\n",
    "    image = cv2.imread(os.path.join(images_path,image_files[index]),cv2.IMREAD_GRAYSCALE)\n",
    "    image_n = cv2.imread(os.path.join(images_n_path,image_n_files[index]),cv2.IMREAD_GRAYSCALE)\n",
    "    mask = cv2.imread(os.path.join(masks_path,mask_files[index]),cv2.IMREAD_GRAYSCALE)\n",
    "\n",
    "    fig,ax = plt.subplots(1,3,figsize = (15,5))\n",
    "\n",
    "    \n",
    "\n",
    "    ax[0].imshow(image)\n",
    "    ax[0].set_title('Image  %s'%image_files[index])\n",
    "    ax[0].axis('off')\n",
    "\n",
    "    ax[2].imshow(mask)\n",
    "    ax[2].set_title('Mask %s'%mask_files[index])\n",
    "    ax[2].axis('off')\n",
    "\n",
    "    plt.show()\n",
    "\n",
    "index_slider = widgets.IntSlider(value=0,min=0,max=len(image_files)-1,step=1,description='Image Index:')\n",
    "widgets.interactive(showImage,index = index_slider)"
   ]
  }
 ],
 "metadata": {
  "kernelspec": {
   "display_name": "_django_exe-NG3i0hEm",
   "language": "python",
   "name": "python3"
  },
  "language_info": {
   "codemirror_mode": {
    "name": "ipython",
    "version": 3
   },
   "file_extension": ".py",
   "mimetype": "text/x-python",
   "name": "python",
   "nbconvert_exporter": "python",
   "pygments_lexer": "ipython3",
   "version": "3.9.7"
  },
  "orig_nbformat": 4
 },
 "nbformat": 4,
 "nbformat_minor": 2
}
